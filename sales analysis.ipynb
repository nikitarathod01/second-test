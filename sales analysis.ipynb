{
 "cells": [
  {
   "cell_type": "markdown",
   "id": "2b4b1a91",
   "metadata": {},
   "source": [
    "# Case Study 1: Sales Analysis"
   ]
  },
  {
   "cell_type": "raw",
   "id": "5692481a",
   "metadata": {},
   "source": [
    "Problem Statement:\n",
    "You have a dataset containing sales data with information like product ID, sales quantity, and revenue. Perform the following tasks:\n",
    "1. Load the dataset and inspect its structure.\n",
    "2. Clean the data (handle missing values, duplicates, etc.).\n",
    "3. Calculate total revenue and quantity sold for each product.\n",
    "4. Find the top-selling products.\n",
    "5. Analyze monthly sales trends."
   ]
  },
  {
   "cell_type": "code",
   "execution_count": 76,
   "id": "d0decfe1",
   "metadata": {},
   "outputs": [],
   "source": [
    "#Answer- \n",
    "#(1) Load the dataset and inspect its structure.\n",
    "import numpy as np\n",
    "import pandas as pd"
   ]
  },
  {
   "cell_type": "code",
   "execution_count": 109,
   "id": "ae6a4944",
   "metadata": {},
   "outputs": [],
   "source": [
    "df = pd.read_csv(\"D:\\\\Edbyte data analysis course\\\\sales analysis.csv\")"
   ]
  },
  {
   "cell_type": "code",
   "execution_count": 110,
   "id": "23ebbde9",
   "metadata": {},
   "outputs": [
    {
     "data": {
      "text/html": [
       "<div>\n",
       "<style scoped>\n",
       "    .dataframe tbody tr th:only-of-type {\n",
       "        vertical-align: middle;\n",
       "    }\n",
       "\n",
       "    .dataframe tbody tr th {\n",
       "        vertical-align: top;\n",
       "    }\n",
       "\n",
       "    .dataframe thead th {\n",
       "        text-align: right;\n",
       "    }\n",
       "</style>\n",
       "<table border=\"1\" class=\"dataframe\">\n",
       "  <thead>\n",
       "    <tr style=\"text-align: right;\">\n",
       "      <th></th>\n",
       "      <th>Product_ID</th>\n",
       "      <th>month</th>\n",
       "      <th>Revenue</th>\n",
       "      <th>sales</th>\n",
       "      <th>quantity sold</th>\n",
       "    </tr>\n",
       "  </thead>\n",
       "  <tbody>\n",
       "    <tr>\n",
       "      <th>0</th>\n",
       "      <td>101</td>\n",
       "      <td>January</td>\n",
       "      <td>12850</td>\n",
       "      <td>457</td>\n",
       "      <td>780</td>\n",
       "    </tr>\n",
       "    <tr>\n",
       "      <th>1</th>\n",
       "      <td>102</td>\n",
       "      <td>February</td>\n",
       "      <td>19560</td>\n",
       "      <td>254</td>\n",
       "      <td>452</td>\n",
       "    </tr>\n",
       "    <tr>\n",
       "      <th>2</th>\n",
       "      <td>103</td>\n",
       "      <td>March</td>\n",
       "      <td>20150</td>\n",
       "      <td>575</td>\n",
       "      <td>714</td>\n",
       "    </tr>\n",
       "    <tr>\n",
       "      <th>3</th>\n",
       "      <td>104</td>\n",
       "      <td>April</td>\n",
       "      <td>25630</td>\n",
       "      <td>126</td>\n",
       "      <td>652</td>\n",
       "    </tr>\n",
       "    <tr>\n",
       "      <th>4</th>\n",
       "      <td>105</td>\n",
       "      <td>May</td>\n",
       "      <td>30240</td>\n",
       "      <td>478</td>\n",
       "      <td>255</td>\n",
       "    </tr>\n",
       "  </tbody>\n",
       "</table>\n",
       "</div>"
      ],
      "text/plain": [
       "   Product_ID     month  Revenue  sales  quantity sold\n",
       "0         101   January    12850    457            780\n",
       "1         102  February    19560    254            452\n",
       "2         103     March    20150    575            714\n",
       "3         104     April    25630    126            652\n",
       "4         105       May    30240    478            255"
      ]
     },
     "execution_count": 110,
     "metadata": {},
     "output_type": "execute_result"
    }
   ],
   "source": [
    "df.head()"
   ]
  },
  {
   "cell_type": "code",
   "execution_count": 111,
   "id": "d503bda9",
   "metadata": {},
   "outputs": [
    {
     "data": {
      "text/plain": [
       "Product_ID       0\n",
       "month            0\n",
       "Revenue          0\n",
       "sales            0\n",
       "quantity sold    0\n",
       "dtype: int64"
      ]
     },
     "execution_count": 111,
     "metadata": {},
     "output_type": "execute_result"
    }
   ],
   "source": [
    "# (2). Clean the data (handle missing values, duplicates, etc.)\n",
    "df.isnull().sum()"
   ]
  },
  {
   "cell_type": "code",
   "execution_count": 112,
   "id": "5463b2f1",
   "metadata": {},
   "outputs": [
    {
     "data": {
      "text/plain": [
       "Product_ID       0\n",
       "month            0\n",
       "Revenue          0\n",
       "sales            0\n",
       "quantity sold    0\n",
       "dtype: int64"
      ]
     },
     "execution_count": 112,
     "metadata": {},
     "output_type": "execute_result"
    }
   ],
   "source": [
    "df = df.dropna()\n",
    "df.isnull().sum()"
   ]
  },
  {
   "cell_type": "code",
   "execution_count": 113,
   "id": "77d37094",
   "metadata": {},
   "outputs": [
    {
     "name": "stdout",
     "output_type": "stream",
     "text": [
      "Revenue Rs.  457871\n"
     ]
    }
   ],
   "source": [
    "# (3). Calculate total revenue and quantity sold for each product.\n",
    "Revenue = df[\"Revenue\"].sum()\n",
    "print(\"Revenue Rs. \", Revenue)"
   ]
  },
  {
   "cell_type": "code",
   "execution_count": 114,
   "id": "e19ad833",
   "metadata": {},
   "outputs": [
    {
     "name": "stdout",
     "output_type": "stream",
     "text": [
      "Total quantity sold  5667\n"
     ]
    }
   ],
   "source": [
    "quantitysold = df[\"quantity sold\"].sum()\n",
    "print(\"Total quantity sold \", quantitysold)"
   ]
  },
  {
   "cell_type": "code",
   "execution_count": 115,
   "id": "1882492b",
   "metadata": {},
   "outputs": [
    {
     "name": "stdout",
     "output_type": "stream",
     "text": [
      "Product with the highest total revenue:  101\n"
     ]
    }
   ],
   "source": [
    "#(4). Find the top-selling products.\n",
    "product_sales = df.groupby('Product_ID')['quantity sold'].sum().reset_index(name='Total Revenue')\n",
    "top_selling_product = product_sales.loc[product_sales['Total Revenue'].idxmax(), :]['Product_ID']\n",
    "print(\"Product with the highest total revenue: \", top_selling_product)"
   ]
  },
  {
   "cell_type": "code",
   "execution_count": 116,
   "id": "a8df9a47",
   "metadata": {},
   "outputs": [],
   "source": [
    "# (5) . Analyze monthly sales trends.\n",
    "import matplotlib.pyplot as plt\n",
    "import seaborn as sns"
   ]
  },
  {
   "cell_type": "code",
   "execution_count": 129,
   "id": "05503504",
   "metadata": {},
   "outputs": [
    {
     "data": {
      "image/png": "[encoded data removed]",
      "text/plain": [
       "<Figure size 640x480 with 1 Axes>"
      ]
     },
     "metadata": {},
     "output_type": "display_data"
    }
   ],
   "source": [
    "plt.hist(x = df['sales'])\n",
    "plt.show()\n"
   ]
  },
  {
   "cell_type": "code",
   "execution_count": null,
   "id": "72e07843",
   "metadata": {},
   "outputs": [],
   "source": []
  }
 ],
 "metadata": {
  "kernelspec": {
   "display_name": "Python 3 (ipykernel)",
   "language": "python",
   "name": "python3"
  },
  "language_info": {
   "codemirror_mode": {
    "name": "ipython",
    "version": 3
   },
   "file_extension": ".py",
   "mimetype": "text/x-python",
   "name": "python",
   "nbconvert_exporter": "python",
   "pygments_lexer": "ipython3",
   "version": "3.11.5"
  }
 },
 "nbformat": 4,
 "nbformat_minor": 5
}
