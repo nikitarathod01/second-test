{
 "cells": [
  {
   "cell_type": "markdown",
   "id": "143b5b6b",
   "metadata": {},
   "source": [
    "# Employee Performance Analysis"
   ]
  },
  {
   "cell_type": "raw",
   "id": "7c88ebe9",
   "metadata": {},
   "source": [
    "Problem Statement:\n",
    "You have a dataset with information about employees, including their performance ratings, years of experience, and department. Perform the following tasks:\n",
    "\n",
    "1. Load the dataset and understand its structure.\n",
    "2. Explore the distribution of performance ratings.\n",
    "3. Identify factors affecting performance (e.g., experience, department).\n",
    "4. Calculate average performance ratings for each department.\n",
    "5. Visualize the performance distribution using histograms."
   ]
  },
  {
   "cell_type": "code",
   "execution_count": 1,
   "id": "12344dd1",
   "metadata": {},
   "outputs": [],
   "source": [
    "# (1). Load the dataset and understand its structure.\n",
    "import numpy as np\n",
    "import pandas as pd"
   ]
  },
  {
   "cell_type": "code",
   "execution_count": 3,
   "id": "75284d50",
   "metadata": {},
   "outputs": [],
   "source": [
    "df = pd.read_csv(\"D:\\Edbyte data analysis course\\\\Employee analysis.csv\")"
   ]
  },
  {
   "cell_type": "code",
   "execution_count": 4,
   "id": "8949c250",
   "metadata": {},
   "outputs": [
    {
     "data": {
      "text/html": [
       "<div>\n",
       "<style scoped>\n",
       "    .dataframe tbody tr th:only-of-type {\n",
       "        vertical-align: middle;\n",
       "    }\n",
       "\n",
       "    .dataframe tbody tr th {\n",
       "        vertical-align: top;\n",
       "    }\n",
       "\n",
       "    .dataframe thead th {\n",
       "        text-align: right;\n",
       "    }\n",
       "</style>\n",
       "<table border=\"1\" class=\"dataframe\">\n",
       "  <thead>\n",
       "    <tr style=\"text-align: right;\">\n",
       "      <th></th>\n",
       "      <th>Employee name</th>\n",
       "      <th>Department</th>\n",
       "      <th>Experience</th>\n",
       "      <th>Ratings out of 10</th>\n",
       "      <th>Salary</th>\n",
       "    </tr>\n",
       "  </thead>\n",
       "  <tbody>\n",
       "    <tr>\n",
       "      <th>0</th>\n",
       "      <td>Nikita</td>\n",
       "      <td>HR</td>\n",
       "      <td>12</td>\n",
       "      <td>8</td>\n",
       "      <td>70000</td>\n",
       "    </tr>\n",
       "    <tr>\n",
       "      <th>1</th>\n",
       "      <td>Ankita</td>\n",
       "      <td>IT</td>\n",
       "      <td>10</td>\n",
       "      <td>9</td>\n",
       "      <td>68000</td>\n",
       "    </tr>\n",
       "    <tr>\n",
       "      <th>2</th>\n",
       "      <td>Prathamesh</td>\n",
       "      <td>Sales</td>\n",
       "      <td>9</td>\n",
       "      <td>6</td>\n",
       "      <td>65000</td>\n",
       "    </tr>\n",
       "    <tr>\n",
       "      <th>3</th>\n",
       "      <td>Ritesh</td>\n",
       "      <td>Sales</td>\n",
       "      <td>7</td>\n",
       "      <td>7</td>\n",
       "      <td>62000</td>\n",
       "    </tr>\n",
       "    <tr>\n",
       "      <th>4</th>\n",
       "      <td>Kaveri</td>\n",
       "      <td>IT</td>\n",
       "      <td>8</td>\n",
       "      <td>6</td>\n",
       "      <td>58000</td>\n",
       "    </tr>\n",
       "  </tbody>\n",
       "</table>\n",
       "</div>"
      ],
      "text/plain": [
       "  Employee name Department  Experience  Ratings out of 10  Salary\n",
       "0        Nikita         HR          12                  8   70000\n",
       "1        Ankita         IT          10                  9   68000\n",
       "2    Prathamesh      Sales           9                  6   65000\n",
       "3        Ritesh      Sales           7                  7   62000\n",
       "4        Kaveri         IT           8                  6   58000"
      ]
     },
     "execution_count": 4,
     "metadata": {},
     "output_type": "execute_result"
    }
   ],
   "source": [
    "df.head()"
   ]
  },
  {
   "cell_type": "code",
   "execution_count": 5,
   "id": "3f331a20",
   "metadata": {},
   "outputs": [
    {
     "data": {
      "text/plain": [
       "Index(['Employee name', 'Department', 'Experience', 'Ratings out of 10',\n",
       "       'Salary'],\n",
       "      dtype='object')"
      ]
     },
     "execution_count": 5,
     "metadata": {},
     "output_type": "execute_result"
    }
   ],
   "source": [
    "df.columns"
   ]
  },
  {
   "cell_type": "code",
   "execution_count": 6,
   "id": "125ba0a7",
   "metadata": {},
   "outputs": [
    {
     "data": {
      "text/plain": [
       "<bound method DataFrame.info of   Employee name        Department  Experience  Ratings out of 10  Salary\n",
       "0        Nikita                HR          12                  8   70000\n",
       "1        Ankita                IT          10                  9   68000\n",
       "2    Prathamesh             Sales           9                  6   65000\n",
       "3        Ritesh             Sales           7                  7   62000\n",
       "4        Kaveri                IT           8                  6   58000\n",
       "5       Shubham               BPO           3                  4   55000\n",
       "6        Vishal         Marketing           4                  2   32000\n",
       "7      Avantika  Jr. data analyst           2                  9   28000\n",
       "8        Khushi                IT           1                  7   20000>"
      ]
     },
     "execution_count": 6,
     "metadata": {},
     "output_type": "execute_result"
    }
   ],
   "source": [
    "df.info"
   ]
  },
  {
   "cell_type": "code",
   "execution_count": 36,
   "id": "b3267065",
   "metadata": {},
   "outputs": [],
   "source": [
    "# (2). Explore the distribution of performance ratings.\n",
    "import matplotlib.pyplot as plt  \n",
    "import seaborn as sns "
   ]
  },
  {
   "cell_type": "code",
   "execution_count": 11,
   "id": "70d942f7",
   "metadata": {},
   "outputs": [
    {
     "name": "stderr",
     "output_type": "stream",
     "text": [
      "C:\\Users\\Gayatri\\AppData\\Local\\Temp\\ipykernel_17424\\1920393967.py:1: UserWarning: \n",
      "\n",
      "`distplot` is a deprecated function and will be removed in seaborn v0.14.0.\n",
      "\n",
      "Please adapt your code to use either `displot` (a figure-level function with\n",
      "similar flexibility) or `histplot` (an axes-level function for histograms).\n",
      "\n",
      "For a guide to updating your code to use the new functions, please see\n",
      "https://gist.github.com/mwaskom/de44147ed2974457ad6372750bbe5751\n",
      "\n",
      "  sns.distplot(x = df['Ratings out of 10'])\n"
     ]
    },
    {
     "data": {
      "image/png": "[encoded data removed]",
      "text/plain": [
       "<Figure size 640x480 with 1 Axes>"
      ]
     },
     "metadata": {},
     "output_type": "display_data"
    }
   ],
   "source": [
    "sns.distplot(x = df['Ratings out of 10'])     #Seaborn library for making statistical graphics \n",
    "plt.show()"
   ]
  },
  {
   "cell_type": "code",
   "execution_count": 28,
   "id": "754da6d9",
   "metadata": {},
   "outputs": [
    {
     "ename": "NameError",
     "evalue": "name 'Ratings' is not defined",
     "output_type": "error",
     "traceback": [
      "\u001b[1;31m---------------------------------------------------------------------------\u001b[0m",
      "\u001b[1;31mNameError\u001b[0m                                 Traceback (most recent call last)",
      "Cell \u001b[1;32mIn[28], line 2\u001b[0m\n\u001b[0;32m      1\u001b[0m \u001b[38;5;66;03m#(3). Identify factors affecting performance (e.g., experience, department).\u001b[39;00m\n\u001b[1;32m----> 2\u001b[0m correlation_matrix \u001b[38;5;241m=\u001b[39m Ratings\u001b[38;5;241m.\u001b[39mcorr()\n\u001b[0;32m      3\u001b[0m performance_correlations \u001b[38;5;241m=\u001b[39m correlation_matrix[\u001b[38;5;124m'\u001b[39m\u001b[38;5;124mperformance\u001b[39m\u001b[38;5;124m'\u001b[39m]\u001b[38;5;241m.\u001b[39msort_values(ascending\u001b[38;5;241m=\u001b[39m\u001b[38;5;28;01mFalse\u001b[39;00m)\n\u001b[0;32m      4\u001b[0m \u001b[38;5;28mprint\u001b[39m(performance_correlations)\n",
      "\u001b[1;31mNameError\u001b[0m: name 'Ratings' is not defined"
     ]
    }
   ],
   "source": [
    "#(3). Identify factors affecting performance (e.g., experience, department).\n",
    "correlation_matrix = Ratings.corr()\n",
    "performance_correlations = correlation_matrix['performance'].sort_values(ascending=False)\n",
    "print(performance_correlations)\n"
   ]
  },
  {
   "cell_type": "code",
   "execution_count": 35,
   "id": "cb95d64e",
   "metadata": {},
   "outputs": [
    {
     "name": "stdout",
     "output_type": "stream",
     "text": [
      "Department\n",
      "BPO                 4.000000\n",
      "HR                  8.000000\n",
      "IT                  7.333333\n",
      "Jr. data analyst    9.000000\n",
      "Marketing           2.000000\n",
      "Sales               6.500000\n",
      "Name: Ratings out of 10, dtype: float64\n"
     ]
    }
   ],
   "source": [
    "#(4). 4. Calculate average performance ratings for each department.\n",
    "data = pd.read_csv(\"D:\\Edbyte data analysis course\\\\Employee analysis.csv\")\n",
    "average_ratings = data.groupby('Department')['Ratings out of 10'].mean()\n",
    "\n",
    "print(average_ratings)"
   ]
  },
  {
   "cell_type": "code",
   "execution_count": 37,
   "id": "0addd5ee",
   "metadata": {},
   "outputs": [
    {
     "data": {
      "image/png": "[encoded data removed]",
      "text/plain": [
       "<Figure size 640x480 with 1 Axes>"
      ]
     },
     "metadata": {},
     "output_type": "display_data"
    }
   ],
   "source": [
    "#(5). Visualize the performance distribution using histograms.\n",
    "import matplotlib.pyplot as plt  \n",
    "import seaborn as sns \n",
    "\n",
    "plt.hist(x = df['Ratings out of 10'])   # Graphical representation of each data \n",
    "plt.show()\n"
   ]
  },
  {
   "cell_type": "code",
   "execution_count": null,
   "id": "5e0cdfc4",
   "metadata": {},
   "outputs": [],
   "source": []
  }
 ],
 "metadata": {
  "kernelspec": {
   "display_name": "Python 3 (ipykernel)",
   "language": "python",
   "name": "python3"
  },
  "language_info": {
   "codemirror_mode": {
    "name": "ipython",
    "version": 3
   },
   "file_extension": ".py",
   "mimetype": "text/x-python",
   "name": "python",
   "nbconvert_exporter": "python",
   "pygments_lexer": "ipython3",
   "version": "3.11.5"
  }
 },
 "nbformat": 4,
 "nbformat_minor": 5
}
